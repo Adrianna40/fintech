{
  "nbformat": 4,
  "nbformat_minor": 0,
  "metadata": {
    "colab": {
      "name": "Untitled2.ipynb",
      "provenance": [],
      "authorship_tag": "ABX9TyOSQGt8ss1coQj6mZUd1LZc",
      "include_colab_link": true
    },
    "kernelspec": {
      "name": "python3",
      "display_name": "Python 3"
    }
  },
  "cells": [
    {
      "cell_type": "markdown",
      "metadata": {
        "id": "view-in-github",
        "colab_type": "text"
      },
      "source": [
        "<a href=\"https://colab.research.google.com/github/Adrianna40/fintech/blob/main/loan_calculator.ipynb\" target=\"_parent\"><img src=\"https://colab.research.google.com/assets/colab-badge.svg\" alt=\"Open In Colab\"/></a>"
      ]
    },
    {
      "cell_type": "code",
      "metadata": {
        "id": "sDqwJWi0cxZh",
        "outputId": "500eb2ea-e2b2-4430-e049-9457634693cf",
        "colab": {
          "base_uri": "https://localhost:8080/"
        }
      },
      "source": [
        "\n",
        "import pandas as pd\n",
        "import matplotlib.pyplot as plt\n",
        "\n",
        "loan = float(input(print(\"Podaj kwotę kredytu w PLN \")))\n",
        "provision = input(print(\"Uwzględniaj prowizję tak/nie\"))\n",
        "if provision == (\"tak\" or \"Tak\" or \"TAK\"):\n",
        "  provision_float = float(input(print(\"Podaj wysokosc prowizji w % \")))\n",
        "  loan1 = loan*(1+provision_float*0.01)\n",
        "else: \n",
        "  loan1 = loan \n",
        "interestRate = float(input(print(\"Podaj oprocentowanie kredytu \")))\n",
        "loanDuration = int(input(print(\"Podaj okres spłaty kredytu w latach \")))\n",
        "\n",
        "numberOfPayments = (loanDuration)*12 \n",
        "monthlyPayment = loan1 * interestRate*0.01/ (12*(1-pow(12/(12+interestRate*0.01), numberOfPayments)))\n",
        "txt = \"Twoja miesięczna rata będzie wynosić {} zł\"\n",
        "print(txt.format(round(monthlyPayment, 2)))\n",
        "\n"
      ],
      "execution_count": 46,
      "outputs": [
        {
          "output_type": "stream",
          "text": [
            "Podaj kwotę kredytu w PLN \n",
            "200000\n",
            "Uwzględniaj prowizję tak/nie\n",
            "tak\n",
            "Podaj wysokosc prowizji w % \n",
            "2\n",
            "Podaj oprocentowanie kredytu \n",
            "7.5\n",
            "Podaj okres spłaty kredytu w latach \n",
            "30\n",
            "Twoja miesięczna rata będzie wynosić 1426.4 zł\n"
          ],
          "name": "stdout"
        }
      ]
    },
    {
      "cell_type": "code",
      "metadata": {
        "id": "X0XAusXPq9VU",
        "outputId": "e3609d26-41cb-44ad-bff1-5e2802131ddf",
        "colab": {
          "base_uri": "https://localhost:8080/",
          "height": 374
        }
      },
      "source": [
        "plt.figure(figsize=(8,6))\n",
        "loan_to_pay = monthlyPayment*numberOfPayments\n",
        "slices = [loan, loan_to_pay-loan]\n",
        "txt_loan = \"{} PLN\"\n",
        "loan_to_pay_string = txt_loan.format(round(loan_to_pay,2))\n",
        "print(\"Całkowita kwota do spłacenia \" + loan_to_pay_string)\n",
        "cols = ['lightsteelblue',  'lightpink']\n",
        "plt.pie(slices,\n",
        "        labels = [\"kwota kredytu\", \"odsetki\"],\n",
        "        explode = (0, 0.1),\n",
        "        colors=cols,\n",
        "        startangle = 90,\n",
        "        shadow = True,\n",
        "        autopct = '%1.1f%%'\n",
        "       \n",
        "       )\n",
        "\n",
        "# Displays the plot.\n",
        "plt.show()\n"
      ],
      "execution_count": 47,
      "outputs": [
        {
          "output_type": "stream",
          "text": [
            "Całkowita kwota do spłacenia 513503.14 PLN\n"
          ],
          "name": "stdout"
        },
        {
          "output_type": "display_data",
          "data": {
            "image/png": "[encoded data removed]",
            "text/plain": [
              "<Figure size 576x432 with 1 Axes>"
            ]
          },
          "metadata": {
            "tags": []
          }
        }
      ]
    },
    {
      "cell_type": "code",
      "metadata": {
        "id": "XUSLV0S4g52K"
      },
      "source": [
        ""
      ],
      "execution_count": null,
      "outputs": []
    }
  ]
}