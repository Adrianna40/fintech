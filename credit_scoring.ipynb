{
  "nbformat": 4,
  "nbformat_minor": 0,
  "metadata": {
    "kernelspec": {
      "display_name": "Python 3",
      "language": "python",
      "name": "python3"
    },
    "language_info": {
      "name": "python",
      "version": "3.6.6",
      "mimetype": "text/x-python",
      "codemirror_mode": {
        "name": "ipython",
        "version": 3
      },
      "pygments_lexer": "ipython3",
      "nbconvert_exporter": "python",
      "file_extension": ".py"
    },
    "colab": {
      "name": "credit-scoring",
      "provenance": [],
      "collapsed_sections": [],
      "include_colab_link": true
    }
  },
  "cells": [
    {
      "cell_type": "markdown",
      "metadata": {
        "id": "view-in-github",
        "colab_type": "text"
      },
      "source": [
        "<a href=\"https://colab.research.google.com/github/Adrianna40/fintech/blob/main/credit_scoring.ipynb\" target=\"_parent\"><img src=\"https://colab.research.google.com/assets/colab-badge.svg\" alt=\"Open In Colab\"/></a>"
      ]
    },
    {
      "cell_type": "markdown",
      "metadata": {
        "_uuid": "7ae3c53a0713ae5039e538b005637c78eb4ef78d",
        "id": "UVKKfwh01Rmf"
      },
      "source": [
        "<center> <h2> Give Me Some Credit Kaggle Competition </h2> </center>\n",
        "<center> <i>  Seena Huang, Cecelia Sanborn, Harry Bendekgey, Simon Posada Fishman </i> </center>\n",
        "<center> <a href=\"https://www.kaggle.com/c/GiveMeSomeCredit\">https://www.kaggle.com/c/GiveMeSomeCredit<a/> </center>"
      ]
    },
    {
      "cell_type": "code",
      "metadata": {
        "_uuid": "8f2839f25d086af736a60e9eeb907d3b93b6e0e5",
        "_cell_guid": "b1076dfc-b9ad-4769-8c92-a6c4dae69d19",
        "trusted": true,
        "_kg_hide-output": false,
        "_kg_hide-input": false,
        "id": "T0mp0Fob1Rmh"
      },
      "source": [
        "import numpy as np\n",
        "import pandas as pd\n",
        "\n",
        "from sklearn import svm\n",
        "from sklearn.model_selection import cross_validate\n",
        "from sklearn.linear_model import LinearRegression\n",
        "from sklearn.ensemble import RandomForestClassifier\n",
        "\n",
        "import time\n",
        "import os"
      ],
      "execution_count": null,
      "outputs": []
    },
    {
      "cell_type": "code",
      "metadata": {
        "trusted": true,
        "_uuid": "c8c293d97840a52a7eaf293eb59293b10297981e",
        "id": "4Xoe4z3k1Rmo"
      },
      "source": [
        "df = pd.read_csv('https://students.mimuw.edu.pl/~kr394714/FinTech/cs-training.csv')\n",
        "list(df)"
      ],
      "execution_count": null,
      "outputs": []
    },
    {
      "cell_type": "code",
      "metadata": {
        "trusted": true,
        "_uuid": "21654918b2bafa931c1582fb595c1f8357ac3443",
        "id": "HTfPR2gs1Rmt"
      },
      "source": [
        "df.SeriousDlqin2yrs.mean()"
      ],
      "execution_count": null,
      "outputs": []
    },
    {
      "cell_type": "code",
      "metadata": {
        "trusted": true,
        "_uuid": "3d86a58291df787b39530032e18231792775c191",
        "_kg_hide-output": false,
        "id": "Rr-l0hOB1Rmx"
      },
      "source": [
        "age_hist = df['age'].hist(by=df['SeriousDlqin2yrs'], bins=20, layout=(2,1))\n",
        "age_hist[0].set_xlim((0,100))\n",
        "age_hist[0].set_title('SeriousDlqin2yrs = 0')\n",
        "age_hist[1].set_xlim((0,100))\n",
        "age_hist[1].set_title('SeriousDlqin2yrs = 1')"
      ],
      "execution_count": null,
      "outputs": []
    },
    {
      "cell_type": "code",
      "metadata": {
        "trusted": true,
        "scrolled": true,
        "_uuid": "7f08281893f6ab709a4f24ce7400d6da3198ad46",
        "id": "popD0Cfa1Rm1"
      },
      "source": [
        "df.DebtRatio.describe()"
      ],
      "execution_count": null,
      "outputs": []
    },
    {
      "cell_type": "code",
      "metadata": {
        "trusted": true,
        "scrolled": false,
        "_uuid": "93da3d25cc75e1525279ddae6bab23e5d27a4e98",
        "id": "tzbMdaMB1Rm5"
      },
      "source": [
        "df.DebtRatio.quantile([.975])"
      ],
      "execution_count": null,
      "outputs": []
    },
    {
      "cell_type": "code",
      "metadata": {
        "trusted": true,
        "scrolled": false,
        "_uuid": "a90330b4fdee3c9a9f5f7aa767c5b9c14b66ff88",
        "id": "bA89ZI2p1Rm8"
      },
      "source": [
        "df[df['DebtRatio'] > 3489.025][['SeriousDlqin2yrs','MonthlyIncome']].describe()"
      ],
      "execution_count": null,
      "outputs": []
    },
    {
      "cell_type": "code",
      "metadata": {
        "trusted": true,
        "_uuid": "334999e1cfda488e869b140620da2675ce46fc3c",
        "id": "49w6kS3q1RnA"
      },
      "source": [
        "df[(df['DebtRatio'] > 3489.025) & (df['SeriousDlqin2yrs'] == df['MonthlyIncome'])].shape[0]"
      ],
      "execution_count": null,
      "outputs": []
    },
    {
      "cell_type": "code",
      "metadata": {
        "trusted": true,
        "scrolled": true,
        "_uuid": "f7545bedb5554d1ec40b94e7cc6daa2520558501",
        "id": "FheA97zZ1RnD"
      },
      "source": [
        "df.groupby('NumberOfTimes90DaysLate').NumberOfTimes90DaysLate.count()"
      ],
      "execution_count": null,
      "outputs": []
    },
    {
      "cell_type": "code",
      "metadata": {
        "trusted": true,
        "scrolled": false,
        "_uuid": "e591cbebab47c48fcefeae3733882c4d6280a2b1",
        "id": "_6UzgB4T1RnG"
      },
      "source": [
        "df[df['NumberOfTimes90DaysLate'] > 95][['SeriousDlqin2yrs','NumberOfTime60-89DaysPastDueNotWorse','NumberOfTime30-59DaysPastDueNotWorse','NumberOfTimes90DaysLate']].describe()"
      ],
      "execution_count": null,
      "outputs": []
    },
    {
      "cell_type": "code",
      "metadata": {
        "trusted": true,
        "scrolled": false,
        "_uuid": "b016580b052c600d946e3296799009d5e354be98",
        "id": "GzlF9Qqd1RnK"
      },
      "source": [
        "df[(df['RevolvingUtilizationOfUnsecuredLines'] > .9) & (df['RevolvingUtilizationOfUnsecuredLines'] <= 4)].SeriousDlqin2yrs.describe()"
      ],
      "execution_count": null,
      "outputs": []
    },
    {
      "cell_type": "code",
      "metadata": {
        "trusted": true,
        "_uuid": "410537aeaff228b14a39692bb25fc9cdb3802524",
        "id": "Mg_09zhW1RnM"
      },
      "source": [
        "df[(df['RevolvingUtilizationOfUnsecuredLines'] > 4) & (df['RevolvingUtilizationOfUnsecuredLines'] <= 10)].SeriousDlqin2yrs.describe()"
      ],
      "execution_count": null,
      "outputs": []
    },
    {
      "cell_type": "code",
      "metadata": {
        "trusted": true,
        "scrolled": false,
        "_uuid": "9e49ec19a827bcfa3cee35b28396df88a91355c1",
        "id": "vK9bv5cE1RnQ"
      },
      "source": [
        "df[df['RevolvingUtilizationOfUnsecuredLines'] > 10].describe()"
      ],
      "execution_count": null,
      "outputs": []
    },
    {
      "cell_type": "code",
      "metadata": {
        "trusted": true,
        "_uuid": "5272387c6c55d734dd54f4df96d919b62ce813e7",
        "id": "-q4ULbsO1RnT"
      },
      "source": [
        "not_missing = df.dropna()\n",
        "target = 'MonthlyIncome'\n",
        "predictors = [c for c in list(not_missing) if c not in [target, 'Unnamed: 0','SeriousDlqin2yrs']]\n",
        "X_data = not_missing[predictors]\n",
        "y_data = not_missing[target]\n",
        "regr = LinearRegression().fit(X_data, y_data)"
      ],
      "execution_count": null,
      "outputs": []
    },
    {
      "cell_type": "code",
      "metadata": {
        "trusted": true,
        "scrolled": true,
        "_uuid": "8e6fe0b30985da9b519ac64404128de1edb1d21c",
        "id": "E9ytMTzQ1RnV"
      },
      "source": [
        "regr.score(X_data, y_data)"
      ],
      "execution_count": null,
      "outputs": []
    },
    {
      "cell_type": "markdown",
      "metadata": {
        "_uuid": "48b6794bb0be19bfd0a837db05bfcbdb67418afd",
        "id": "UsZyZ6i81RnY"
      },
      "source": [
        "## Datasets"
      ]
    },
    {
      "cell_type": "code",
      "metadata": {
        "trusted": true,
        "_uuid": "2d09cadc9504003806e21abca73558987cf69682",
        "scrolled": true,
        "id": "GaiBPPdr1Rna"
      },
      "source": [
        "# Median Fill, Outliers Removed\n",
        "removed_debt_outliers = df.drop(df[df['DebtRatio'] > 3489.025].index)\n",
        "removed_debt_outliers = removed_debt_outliers.fillna(removed_debt_outliers.median())"
      ],
      "execution_count": null,
      "outputs": []
    },
    {
      "cell_type": "code",
      "metadata": {
        "trusted": true,
        "_uuid": "f9920add1e1d3fd446fbc304027734c8cc6f4bb5",
        "id": "F1sUSQhs1Rnc"
      },
      "source": [
        "# Removed utilization outliers\n",
        "dfus = removed_debt_outliers.drop(removed_debt_outliers[removed_debt_outliers['RevolvingUtilizationOfUnsecuredLines'] > 10].index)"
      ],
      "execution_count": null,
      "outputs": []
    },
    {
      "cell_type": "code",
      "metadata": {
        "trusted": true,
        "_uuid": "ae845f31cdd759d4e7834e8883f49e6838b15bb9",
        "id": "ZaRbfmL91Rne"
      },
      "source": [
        "# Removed 98s\n",
        "dfn98 = dfus.copy()\n",
        "dfn98.loc[dfn98['NumberOfTime30-59DaysPastDueNotWorse'] > 90, 'NumberOfTime30-59DaysPastDueNotWorse'] = 18\n",
        "dfn98.loc[dfn98['NumberOfTime60-89DaysPastDueNotWorse'] > 90, 'NumberOfTime60-89DaysPastDueNotWorse'] = 18\n",
        "dfn98.loc[dfn98['NumberOfTimes90DaysLate'] > 90, 'NumberOfTimes90DaysLate'] = 18"
      ],
      "execution_count": null,
      "outputs": []
    },
    {
      "cell_type": "markdown",
      "metadata": {
        "_uuid": "ab8264612cf3d0f23dab7534567dd322b72f8e86",
        "id": "xi-2xtdt1Rng"
      },
      "source": [
        "# Model Testing"
      ]
    },
    {
      "cell_type": "code",
      "metadata": {
        "trusted": true,
        "_uuid": "1173fed2cf7e3b55d078caee0a1babf0c5d67127",
        "id": "Tj_H3aif1Rnh",
        "outputId": "2dc458c6-9899-4c1c-e22d-d59e5cca8619",
        "colab": {
          "base_uri": "https://localhost:8080/"
        }
      },
      "source": [
        "# A utility class to test all of our models on different datasets\n",
        "class Tester():\n",
        "    def __init__(self, target):\n",
        "        self.target = target\n",
        "        self.datasets = {}\n",
        "        self.models = {}\n",
        "        self.cache = {} # we added a simple cache to speed things up\n",
        "\n",
        "    def addDataset(self, name, df):\n",
        "        self.datasets[name] = df.copy()\n",
        "\n",
        "    def addModel(self, name, model):\n",
        "        self.models[name] = model\n",
        "        \n",
        "    def clearModels(self):\n",
        "        self.models = {}\n",
        "\n",
        "    def clearCache(self):\n",
        "        self.cache = {}\n",
        "    \n",
        "    def testModelWithDataset(self, m_name, df_name, sample_len, cv):\n",
        "        if (m_name, df_name, sample_len, cv) in self.cache:\n",
        "            return self.cache[(m_name, df_name, sample_len, cv)]\n",
        "\n",
        "        clf = self.models[m_name]\n",
        "        \n",
        "        if not sample_len: \n",
        "            sample = self.datasets[df_name]\n",
        "        else: sample = self.datasets[df_name].sample(sample_len)\n",
        "            \n",
        "        X = sample.drop([self.target], axis=1)\n",
        "        Y = sample[self.target]\n",
        "\n",
        "        s = cross_validate(clf, X, Y, scoring=['roc_auc'], cv=cv, n_jobs=-1)\n",
        "        self.cache[(m_name, df_name, sample_len, cv)] = s\n",
        "\n",
        "        return s\n",
        "\n",
        "    def runTests(self, sample_len=80000, cv=4):\n",
        "        # Tests the added models on all the added datasets\n",
        "        scores = {}\n",
        "        for m_name in self.models:\n",
        "            for df_name in self.datasets:\n",
        "                # print('Testing %s' % str((m_name, df_name)), end='')\n",
        "                start = time.time()\n",
        "\n",
        "                score = self.testModelWithDataset(m_name, df_name, sample_len, cv)\n",
        "                scores[(m_name, df_name)] = score\n",
        "                \n",
        "                end = time.time()\n",
        "                \n",
        "                # print(' -- %0.2fs ' % (end - start))\n",
        "\n",
        "        print('--- Top 10 Results ---')\n",
        "        for score in sorted(scores.items(), key=lambda x: -1 * x[1]['test_roc_auc'].mean())[:10]:\n",
        "            auc = score[1]['test_roc_auc']\n",
        "            print(\"%s --> AUC: %0.4f (+/- %0.4f)\" % (str(score[0]), auc.mean(), auc.std()))\n",
        "\n",
        "            \n",
        "# We will use a tester object across all models\n",
        "tester = Tester('SeriousDlqin2yrs')\n",
        "\n",
        "# You can add datasets like this:\n",
        "tester.addDataset('Drop Missing', df.dropna())\n",
        "\n",
        "# And models like this:\n",
        "rfc = RandomForestClassifier(n_estimators=15, max_depth = 6, random_state=0)\n",
        "tester.addModel('Simple Random Forest', rfc)\n",
        "tester.addModel('Simple SVM', svm.LinearSVC())\n",
        "\n",
        "# You can then use it to run the tests\n",
        "tester.runTests()"
      ],
      "execution_count": null,
      "outputs": [
        {
          "output_type": "stream",
          "text": [
            "--- Top 10 Results ---\n",
            "('Simple Random Forest', 'Drop Missing') --> AUC: 0.8487 (+/- 0.0075)\n",
            "('Simple SVM', 'Drop Missing') --> AUC: 0.5819 (+/- 0.0708)\n"
          ],
          "name": "stdout"
        }
      ]
    },
    {
      "cell_type": "code",
      "metadata": {
        "trusted": true,
        "_uuid": "5b084b9f9bdd50d9347a7699486badd446e2f29b",
        "id": "v3cYzsmf1Rnk",
        "outputId": "1cd90030-443b-4c8b-e851-9321d0df2506",
        "colab": {
          "base_uri": "https://localhost:8080/"
        }
      },
      "source": [
        "tester.addDataset('Median Fill', df.fillna(df.median()))\n",
        "tester.addDataset('Median Fill, Outliers Removed', removed_debt_outliers)\n",
        "tester.addDataset('Removed 98s', dfn98)\n",
        "tester.addDataset('Removed utilization outliers', dfus)\n",
        "\n",
        "tester.runTests()"
      ],
      "execution_count": null,
      "outputs": [
        {
          "output_type": "stream",
          "text": [
            "--- Top 10 Results ---\n",
            "('Simple Random Forest', 'Removed 98s') --> AUC: 0.8592 (+/- 0.0033)\n",
            "('Simple Random Forest', 'Median Fill, Outliers Removed') --> AUC: 0.8578 (+/- 0.0021)\n",
            "('Simple Random Forest', 'Removed utilization outliers') --> AUC: 0.8574 (+/- 0.0041)\n",
            "('Simple Random Forest', 'Median Fill') --> AUC: 0.8573 (+/- 0.0011)\n",
            "('Simple Random Forest', 'Drop Missing') --> AUC: 0.8487 (+/- 0.0075)\n",
            "('Simple SVM', 'Removed utilization outliers') --> AUC: 0.6287 (+/- 0.0234)\n",
            "('Simple SVM', 'Median Fill, Outliers Removed') --> AUC: 0.6061 (+/- 0.0524)\n",
            "('Simple SVM', 'Removed 98s') --> AUC: 0.6042 (+/- 0.0240)\n",
            "('Simple SVM', 'Median Fill') --> AUC: 0.5844 (+/- 0.0276)\n",
            "('Simple SVM', 'Drop Missing') --> AUC: 0.5819 (+/- 0.0708)\n"
          ],
          "name": "stdout"
        }
      ]
    },
    {
      "cell_type": "markdown",
      "metadata": {
        "_uuid": "6aadbfc0c9da9ecd23c13449ecc855f809abe8c2",
        "id": "wMWWA0qi1Rnn"
      },
      "source": [
        "## Random Forests"
      ]
    },
    {
      "cell_type": "code",
      "metadata": {
        "trusted": true,
        "scrolled": true,
        "_uuid": "84f91d25303f97eac166997ebd338da994be92a9",
        "id": "n7y860AH1Rno",
        "outputId": "1301610b-e48a-4a59-947b-4423510f4746",
        "colab": {
          "base_uri": "https://localhost:8080/"
        }
      },
      "source": [
        "from sklearn.ensemble import RandomForestClassifier\n",
        "\n",
        "for i in range(5,10):\n",
        "    for j in range(10,20):\n",
        "        rfc = RandomForestClassifier(n_estimators=j,max_depth = i, random_state=0)\n",
        "        tester.addModel('Random Forest '+'d: '+str(i)+' est: '+str(j)  ,rfc)\n",
        "\n",
        "tester.runTests()"
      ],
      "execution_count": null,
      "outputs": [
        {
          "output_type": "stream",
          "text": [
            "--- Top 10 Results ---\n",
            "('Random Forest d: 8 est: 17', 'Median Fill, Outliers Removed') --> AUC: 0.8649 (+/- 0.0044)\n",
            "('Random Forest d: 9 est: 11', 'Removed utilization outliers') --> AUC: 0.8648 (+/- 0.0033)\n",
            "('Random Forest d: 9 est: 16', 'Median Fill, Outliers Removed') --> AUC: 0.8643 (+/- 0.0054)\n",
            "('Random Forest d: 7 est: 11', 'Removed 98s') --> AUC: 0.8637 (+/- 0.0065)\n",
            "('Random Forest d: 9 est: 11', 'Median Fill, Outliers Removed') --> AUC: 0.8636 (+/- 0.0047)\n",
            "('Random Forest d: 6 est: 19', 'Removed utilization outliers') --> AUC: 0.8634 (+/- 0.0037)\n",
            "('Random Forest d: 9 est: 17', 'Removed utilization outliers') --> AUC: 0.8633 (+/- 0.0023)\n",
            "('Random Forest d: 8 est: 10', 'Median Fill, Outliers Removed') --> AUC: 0.8633 (+/- 0.0024)\n",
            "('Random Forest d: 9 est: 14', 'Removed utilization outliers') --> AUC: 0.8632 (+/- 0.0045)\n",
            "('Random Forest d: 9 est: 13', 'Median Fill, Outliers Removed') --> AUC: 0.8631 (+/- 0.0022)\n"
          ],
          "name": "stdout"
        }
      ]
    },
    {
      "cell_type": "markdown",
      "metadata": {
        "_uuid": "cc4b105704e580db4e821ccbeac15d7b07b4eb8a",
        "id": "B4GRHVMA1Rnu"
      },
      "source": [
        "## K-Nearest Neighbors"
      ]
    },
    {
      "cell_type": "code",
      "metadata": {
        "trusted": true,
        "_uuid": "f5b3faecf9e2d767454d723ffed2b37a70ec9cf8",
        "id": "U7ZTzpjC1Rnv",
        "outputId": "5597634b-f910-450f-bc91-c5e5b6b85d59",
        "colab": {
          "base_uri": "https://localhost:8080/"
        }
      },
      "source": [
        "from sklearn.neighbors import KNeighborsClassifier\n",
        "\n",
        "tester.clearModels()\n",
        "\n",
        "for i in range(5, 10):\n",
        "    neigh = KNeighborsClassifier(n_neighbors=i)\n",
        "    tester.addModel('KNN k=%d' % i, neigh)\n",
        "    \n",
        "tester.runTests(50000)"
      ],
      "execution_count": null,
      "outputs": [
        {
          "output_type": "stream",
          "text": [
            "--- Top 10 Results ---\n",
            "('KNN k=7', 'Removed utilization outliers') --> AUC: 0.5257 (+/- 0.0074)\n",
            "('KNN k=9', 'Median Fill') --> AUC: 0.5251 (+/- 0.0021)\n",
            "('KNN k=8', 'Removed utilization outliers') --> AUC: 0.5240 (+/- 0.0042)\n",
            "('KNN k=8', 'Median Fill') --> AUC: 0.5195 (+/- 0.0100)\n",
            "('KNN k=9', 'Removed 98s') --> AUC: 0.5190 (+/- 0.0111)\n",
            "('KNN k=7', 'Median Fill') --> AUC: 0.5187 (+/- 0.0082)\n",
            "('KNN k=5', 'Median Fill') --> AUC: 0.5176 (+/- 0.0067)\n",
            "('KNN k=9', 'Median Fill, Outliers Removed') --> AUC: 0.5160 (+/- 0.0080)\n",
            "('KNN k=7', 'Drop Missing') --> AUC: 0.5151 (+/- 0.0104)\n",
            "('KNN k=5', 'Median Fill, Outliers Removed') --> AUC: 0.5149 (+/- 0.0049)\n"
          ],
          "name": "stdout"
        }
      ]
    }
  ]
}